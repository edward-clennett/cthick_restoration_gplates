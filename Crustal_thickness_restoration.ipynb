{
 "cells": [
  {
   "cell_type": "markdown",
   "id": "ab7f5d83",
   "metadata": {},
   "source": [
    "#### Load dependencies"
   ]
  },
  {
   "cell_type": "code",
   "execution_count": null,
   "id": "d1e3e530",
   "metadata": {},
   "outputs": [],
   "source": [
    "import os\n",
    "import sys\n",
    "sys.path.append('Documents/Work/Texas/Research/Gplates/pygplates/Plate_forces_workflow/Requirements/pygplates_rev28_python38_win64') # <- import the appropriate one for your setup\n",
    "import pygplates\n",
    "import numpy as np\n",
    "import netCDF4 as nc"
   ]
  },
  {
   "cell_type": "markdown",
   "id": "21257007",
   "metadata": {},
   "source": [
    "#### Get list of points and thicknesses from a raster"
   ]
  },
  {
   "cell_type": "code",
   "execution_count": null,
   "id": "1a61d5d3",
   "metadata": {},
   "outputs": [],
   "source": [
    "# Load netCDF file\n",
    "root_dir = 'C:/Users/edcle/Documents/Work/Texas/Research/Svalbard/2023-bundle-forEC/GPlates-files/'\n",
    "cthick = nc.Dataset(root_dir+'2-Rasters/Reconstructed-crustal-thickness/80Ma_thickness_masked_exp.nc')\n",
    "\n",
    "# Read crustal thickness file\n",
    "latitude_array = cthick['y'][:]\n",
    "longitude_array = cthick['x'][:]\n",
    "thickness_array = cthick['z'][:]\n",
    "\n",
    "# append values to list\n",
    "points_list = []\n",
    "thickness_list = []\n",
    "for i in range(len(latitude_array)):\n",
    "    for j in range(len(longitude_array)):\n",
    "        points_list.append((latitude_array[i],longitude_array[j]))\n",
    "        thickness_list.append(float(thickness_array[i,j]))"
   ]
  },
  {
   "cell_type": "markdown",
   "id": "cbd4ae4f",
   "metadata": {},
   "source": [
    "#### Thickness list only for points within topologies"
   ]
  },
  {
   "cell_type": "code",
   "execution_count": null,
   "id": "cf2d2fc5",
   "metadata": {},
   "outputs": [],
   "source": [
    "rift_phase_start_time = 247\n",
    "previous_phase_end = 166\n",
    "root_dir = 'C:/Users/edcle/Documents/Work/Texas/Research/Svalbard/2023-bundle-forEC/GPlates-files/'\n",
    "cthick = nc.Dataset(root_dir+'2-Rasters/Reconstructed-crustal-thickness/'+str(previous_phase_end)+'Ma_thickness_masked.nc')\n",
    "\n",
    "# Load crustal thickness from raster\n",
    "# latitude_array = cthick['lat'][:]\n",
    "# longitude_array = cthick['lon'][:]\n",
    "# thickness_array = cthick['Band1'][:]\n",
    "\n",
    "latitude_array = cthick['y'][:]\n",
    "longitude_array = cthick['x'][:]\n",
    "thickness_array = cthick['z'][:]\n",
    "\n",
    "# load and reconstruct topologies\n",
    "topology_features = [pygplates.FeatureCollection(root_dir+'1-Deforming-Model/1.5-deforming-mesh/deforming-mesh-updated-hinges-fixed1020101-ProfileD.gpml'),\n",
    "                     pygplates.FeatureCollection(root_dir+'1-Deforming-Model/1.4-hinge-lines/MODEL-hinges-for-deforming-updatedpasttimes-ProfD.gpml'),\n",
    "                     pygplates.FeatureCollection(root_dir+'1-Deforming-Model/1.1-general-other/hinge-polygons-1020101ProfD.gpml')]\n",
    "rotation_model = pygplates.RotationModel(root_dir+'1-Deforming-Model/NAtlDef_CEED-MODELB1.rot')\n",
    "resolved_topologies = []\n",
    "pygplates.resolve_topologies(topology_features, rotation_model, resolved_topologies, rift_phase_start_time, anchor_plate_id=301)\n",
    "\n",
    "# create array of crustal thickness for points within the topology\n",
    "points_list = []\n",
    "thickness_list = []\n",
    "for i in range(len(latitude_array)):\n",
    "    for j in range(len(longitude_array)):\n",
    "        if str(float(thickness_array[i,j])) != 'nan':\n",
    "            point = pygplates.PointOnSphere(latitude_array[i],longitude_array[j])\n",
    "            for resolved_topology in resolved_topologies:\n",
    "                if resolved_topology.get_resolved_boundary().is_point_in_polygon(point):\n",
    "                    points_list.append((latitude_array[i],longitude_array[j]))\n",
    "                    thickness_list.append(float(thickness_array[i,j]))"
   ]
  },
  {
   "cell_type": "markdown",
   "id": "961cacb9",
   "metadata": {},
   "source": [
    "#### Make combined raster from scalar coverages and cookie-cut raster"
   ]
  },
  {
   "cell_type": "code",
   "execution_count": null,
   "id": "14776988",
   "metadata": {},
   "outputs": [],
   "source": [
    "reconstruction_time = '166'\n",
    "#Load in cookie-cut raster\n",
    "root_dir = 'C:/Users/edcle/Documents/Work/Texas/Research/Svalbard/2023-bundle-forEC/GPlates-files/'\n",
    "cthick = nc.Dataset(root_dir+'2-Rasters/Reconstructed-crustal-thickness/crustal_thickness_from_gravity_inversion_geo_'+reconstruction_time+'.00Ma.nc')\n",
    "latitude_array = cthick['lat'][:]\n",
    "longitude_array = cthick['lon'][:]\n",
    "thickness_array = cthick['Band1'][:]\n",
    "\n",
    "#Append values to list\n",
    "points_list = []\n",
    "for i in range(len(latitude_array)):\n",
    "    for j in range(len(longitude_array)):\n",
    "        if str(float(thickness_array[i,j])) != 'nan':\n",
    "            points_list.append([longitude_array[j],latitude_array[i],float(thickness_array[i,j])])\n",
    "\n",
    "#Load in Scalar coverages            \n",
    "f = open(root_dir+\"4-Scalar-coverages/scalar_coverage_\"+reconstruction_time+\".00Ma.xy\", \"r\")\n",
    "lines = f.readlines()\n",
    "for line in lines:\n",
    "    if line[0] == '>':\n",
    "        continue\n",
    "    cols = line.split(\" \")\n",
    "    while (\"\" in cols):\n",
    "        cols.remove(\"\")\n",
    "    points_list.append(cols)\n",
    "f.close()\n",
    "\n",
    "#Write to txt file\n",
    "file = open('temp_thick.txt','w')\n",
    "for line in points_list:\n",
    "    file.write(str(line[0])+' '+str(line[1])+' '+str(line[2])+' '+\"\\n\")\n",
    "file.close()\n",
    "\n",
    "#create grid file\n",
    "# NB make sure to change output file name\n",
    "outdir = 'C:/Users/edcle/Documents/Work/Texas/Research/Svalbard/2023-bundle-forEC/GPlates-files/2-Rasters/Reconstructed-crustal-thickness/'\n",
    "!gmt blockmean temp_thick.txt -I0.05 -R-7.5/20.5/60.5/74.5 > temp_blockmean.txt\n",
    "!gmt surface temp_blockmean.txt -I0.05 -R-7.5/20.5/60.5/74.5 -G$outdir/{reconstruction_time}Ma_combined_surface.nc\n",
    "!gmt grdmask $outdir/mask_{reconstruction_time}.00Ma.xy -G$outdir/mask_{reconstruction_time}Ma.grd -I0.05 -R-7.5/20.5/60.5/74.5 -NNaN/1/1\n",
    "!gmt grdmath $outdir/{reconstruction_time}Ma_combined_surface.nc $outdir/mask_{reconstruction_time}Ma.grd OR = $outdir/{reconstruction_time}Ma_thickness_masked.nc\n",
    "    \n",
    "#clean up\n",
    "os.remove('temp_thick.txt')\n",
    "os.remove('temp_blockmean.txt')"
   ]
  },
  {
   "cell_type": "markdown",
   "id": "525c8f8b",
   "metadata": {},
   "source": [
    "#### Create scalar coverages for GPlates"
   ]
  },
  {
   "cell_type": "code",
   "execution_count": null,
   "id": "3ae07a0a",
   "metadata": {},
   "outputs": [],
   "source": [
    "multi_point = pygplates.MultiPointOnSphere(points_list)\n",
    "\n",
    "scalar_coverages = {\n",
    "    pygplates.ScalarType.create_gpml('CrustalThickness'): thickness_list}\n",
    "\n",
    "ct_feature = pygplates.Feature()\n",
    "ct_feature.set_geometry((multi_point,scalar_coverages))\n",
    "ct_feature.set_name('Crustal Thickness')\n",
    "\n",
    "output_feature_collection = pygplates.FeatureCollection(ct_feature)\n",
    "output_feature_collection.write(root_dir+'4-Scalar-coverages/166Ma_forward_thickness.gpml')"
   ]
  }
 ],
 "metadata": {
  "kernelspec": {
   "display_name": "Python 3 (ipykernel)",
   "language": "python",
   "name": "python3"
  },
  "language_info": {
   "codemirror_mode": {
    "name": "ipython",
    "version": 3
   },
   "file_extension": ".py",
   "mimetype": "text/x-python",
   "name": "python",
   "nbconvert_exporter": "python",
   "pygments_lexer": "ipython3",
   "version": "3.8.13"
  }
 },
 "nbformat": 4,
 "nbformat_minor": 5
}
